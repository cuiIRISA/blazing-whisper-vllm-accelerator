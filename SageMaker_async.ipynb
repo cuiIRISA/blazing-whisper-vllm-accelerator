{
 "cells": [
  {
   "cell_type": "code",
   "execution_count": 30,
   "id": "a83fc28b-fbf2-49ee-a467-646e68939201",
   "metadata": {},
   "outputs": [
    {
     "name": "stderr",
     "output_type": "stream",
     "text": [
      "WARNING! Your password will be stored unencrypted in /home/ec2-user/.docker/config.json.\n",
      " credential helper to remove this warning. See\n",
      "login/#credentials-storeengine/reference/commandline/\n",
      "\n"
     ]
    },
    {
     "name": "stdout",
     "output_type": "stream",
     "text": [
      "Login Succeeded\n"
     ]
    },
    {
     "name": "stderr",
     "output_type": "stream",
     "text": [
      "#0 building with \"default\" instance using docker driver\n",
      "\n",
      "ckerfilernal] load build definition from Do\n",
      "#1 transferring dockerfile: 2B done\n",
      "#1 DONE 0.0s\n",
      "ERROR: failed to solve: failed to read dockerfile: open Dockerfile: no such file or directory\n"
     ]
    },
    {
     "name": "stdout",
     "output_type": "stream",
     "text": [
      "The push refers to repository [707684582322.dkr.ecr.us-west-2.amazonaws.com/whisper-fastapi]\n",
      "48c4b7350964: Preparing\n",
      "8aba38bb6197: Preparing\n",
      "81188348b0fc: Preparing\n",
      "6084d2eb16c5: Preparing\n",
      "a0787ac4: Preparing\n",
      "eb7adf68ecdc: Preparing\n",
      "339a848ed91d: Preparing\n",
      "41158a36491b: Preparing\n",
      "b079d8155d35: Preparing\n",
      "c0b7ea454710: Preparing\n",
      "08a626f2d039: Preparing\n",
      "af35a154b011: Preparing\n",
      "d60df4bdcba5: Preparing\n",
      "cb2ff96c: Preparing\n",
      "2beb086414c7: Preparing\n",
      "7bf0aff327dd: Preparing\n",
      "bcd30552e08a: Preparing\n",
      "a3c7: Preparing\n",
      "aded6b31b730: Preparing\n",
      "44a5b21fc98e: Preparing\n",
      "bbdba4451161: Preparing\n",
      ": Preparing8\n",
      "b0dfaf1ca5c5: Preparing\n",
      "700fe921ad1f: Preparing\n",
      "520e0f301880: Preparing\n",
      "eparing8d6e0: Pr\n",
      "e942261d196e: Preparing\n",
      "eeb5315df33c: Preparing\n",
      "022bf74291b2: Preparing\n",
      "ing407952594: Prepar\n",
      "5498e8c22f69: Preparing\n",
      "eb7adf68ecdc: Waiting\n",
      "339a848ed91d: Waiting\n",
      "44a5b21fc98e: Waiting\n",
      "451161: Waiting\n",
      "41158a36491b: Waiting\n",
      "4e356886a648: Waiting\n",
      "b079d8155d35: Waiting\n",
      "ingfaf1ca5c5: Wait\n",
      "700fe921ad1f: Waiting\n",
      "c0b7ea454710: Waiting\n",
      "520e0f301880: Waiting\n",
      "08a626f2d039: Waiting\n",
      "d6e0: Waiting\n",
      "af35a154b011: Waiting\n",
      "d60df4bdcba5: Waiting\n",
      "e942261d196e: Waiting\n",
      "geb5315df33c: Waitin\n",
      "0742cb2ff96c: Waiting\n",
      "022bf74291b2: Waiting\n",
      "2beb086414c7: Waiting\n",
      "4cd407952594: Waiting\n",
      "69: Waiting\n",
      "7bf0aff327dd: Waiting\n",
      "bcd30552e08a: Waiting\n",
      "5b338deda3c7: Waiting\n",
      "aded6b31b730: Waiting\n",
      "8aba38bb6197: Layer already exists\n",
      "81188348b0fc: Layer already exists\n",
      "db43a0787ac4: Layer already exists\n",
      "48c4b7350964: Layer already exists\n",
      "6084d2eb16c5: Layer already exists\n",
      "339a848ed91d: Layer already exists\n",
      "b079d8155d35: Layer already exists\n",
      "c0b7ea454710: Layer already exists\n",
      "eb7adf68ecdc: Layer already exists\n",
      "41158a36491b: Layer already exists\n",
      "08a626f2d039: Layer already exists\n",
      "2beb086414c7: Layer already exists\n",
      "af35a154b011: Layer already exists\n",
      "d60df4bdcba5: Layer already exists\n",
      "0742cb2ff96c: Layer already exists\n",
      "7bf0aff327dd: Layer already exists\n",
      "bcd30552e08a: Layer already exists\n",
      "5b338deda3c7: Layer already exists\n",
      "aded6b31b730: Layer already exists\n",
      "44a5b21fc98e: Layer already exists\n",
      "bbdba4451161: Layer already exists\n",
      "4e356886a648: Layer already exists\n",
      "b0dfaf1ca5c5: Layer already exists\n",
      "700fe921ad1f: Layer already exists\n",
      "520e0f301880: Layer already exists\n",
      "421c5b38d6e0: Layer already exists\n",
      "eeb5315df33c: Layer already exists\n",
      "022bf74291b2: Layer already exists\n",
      "e942261d196e: Layer already exists\n",
      "4cd407952594: Layer already exists\n",
      "5498e8c22f69: Layer already exists\n",
      "latest: digest: sha256:8e90f4d4ecdc1fcde717b47c8e47f5b986540114fa1ae67637dac5626c3f7ff1 size: 6820\n"
     ]
    }
   ],
   "source": [
    "%%sh\n",
    "\n",
    "# Specify an algorithm name\n",
    "algorithm_name=whisper-fastapi\n",
    "\n",
    "account=$(aws sts get-caller-identity --query Account --output text)\n",
    "\n",
    "# Get the region defined in the current configuration (default to us-west-2 if none defined)\n",
    "region=$(aws configure get region)\n",
    "#region=${region:-us-west-2}\n",
    "\n",
    "fullname=\"${account}.dkr.ecr.${region}.amazonaws.com/${algorithm_name}:latest\"\n",
    "\n",
    "# If the repository doesn't exist in ECR, create it.\n",
    "\n",
    "aws ecr describe-repositories --repository-names \"${algorithm_name}\" > /dev/null 2>&1\n",
    "if [ $? -ne 0 ]\n",
    "then\n",
    "aws ecr create-repository --repository-name \"${algorithm_name}\" > /dev/null\n",
    "fi\n",
    "\n",
    "# Get the login command from ECR and execute it directly\n",
    "\n",
    "aws ecr get-login-password --region ${region}|docker login --username AWS --password-stdin ${fullname}\n",
    "\n",
    "# Build the docker image locally with the image name and then push it to ECR\n",
    "# with the full name.\n",
    "\n",
    "docker build -t ${algorithm_name} .\n",
    "docker tag ${algorithm_name} ${fullname}\n",
    "\n",
    "docker push ${fullname}"
   ]
  },
  {
   "cell_type": "code",
   "execution_count": 31,
   "id": "7f845755-1a0b-4e26-83b1-8084758fab95",
   "metadata": {},
   "outputs": [],
   "source": [
    "import boto3\n",
    "import json\n",
    "import time\n",
    "\n",
    "# Set your ECR image URI\n",
    "image_uri = \"707684582322.dkr.ecr.us-west-2.amazonaws.com/whisper-fastapi\""
   ]
  },
  {
   "cell_type": "code",
   "execution_count": 32,
   "id": "a28c7678-2252-4e0e-967a-3f1e7ba4abb7",
   "metadata": {},
   "outputs": [
    {
     "data": {
      "text/html": [
       "<pre style=\"white-space:pre;overflow-x:auto;line-height:normal;font-family:Menlo,'DejaVu Sans Mono',consolas,'Courier New',monospace\"><span style=\"color: #7fbfbf; text-decoration-color: #7fbfbf\">[05/22/25 15:02:15] </span><span style=\"color: #0069ff; text-decoration-color: #0069ff; font-weight: bold\">INFO    </span> Found credentials from IAM Role:                                   <a href=\"file:///home/ec2-user/anaconda3/envs/python3/lib/python3.10/site-packages/botocore/credentials.py\" target=\"_blank\"><span style=\"color: #7f7f7f; text-decoration-color: #7f7f7f\">credentials.py</span></a><span style=\"color: #7f7f7f; text-decoration-color: #7f7f7f\">:</span><a href=\"file:///home/ec2-user/anaconda3/envs/python3/lib/python3.10/site-packages/botocore/credentials.py#1132\" target=\"_blank\"><span style=\"color: #7f7f7f; text-decoration-color: #7f7f7f\">1132</span></a>\n",
       "<span style=\"color: #7fbfbf; text-decoration-color: #7fbfbf\">                    </span>         BaseNotebookInstanceEc2InstanceRole                                <span style=\"color: #7f7f7f; text-decoration-color: #7f7f7f\">                   </span>\n",
       "</pre>\n"
      ],
      "text/plain": [
       "\u001b[2;36m[05/22/25 15:02:15]\u001b[0m\u001b[2;36m \u001b[0m\u001b[1;38;2;0;105;255mINFO    \u001b[0m Found credentials from IAM Role:                                   \u001b]8;id=273245;file:///home/ec2-user/anaconda3/envs/python3/lib/python3.10/site-packages/botocore/credentials.py\u001b\\\u001b[2mcredentials.py\u001b[0m\u001b]8;;\u001b\\\u001b[2m:\u001b[0m\u001b]8;id=610030;file:///home/ec2-user/anaconda3/envs/python3/lib/python3.10/site-packages/botocore/credentials.py#1132\u001b\\\u001b[2m1132\u001b[0m\u001b]8;;\u001b\\\n",
       "\u001b[2;36m                    \u001b[0m         BaseNotebookInstanceEc2InstanceRole                                \u001b[2m                   \u001b[0m\n"
      ]
     },
     "metadata": {},
     "output_type": "display_data"
    },
    {
     "name": "stdout",
     "output_type": "stream",
     "text": [
      "Using SageMaker execution role: arn:aws:iam::707684582322:role/service-role/AmazonSageMaker-ExecutionRole-20191024T163188\n"
     ]
    }
   ],
   "source": [
    "# Initialize boto3 clients\n",
    "session = boto3.Session()\n",
    "sm_client = session.client('sagemaker')\n",
    "\n",
    "# Get the SageMaker execution role from the notebook environment\n",
    "import sagemaker\n",
    "role_arn = sagemaker.get_execution_role()\n",
    "print(f\"Using SageMaker execution role: {role_arn}\")"
   ]
  },
  {
   "cell_type": "code",
   "execution_count": 33,
   "id": "1efc64ea-1efa-48d1-843a-c8299b0bccea",
   "metadata": {},
   "outputs": [],
   "source": [
    "model_name = \"whisper\"\n",
    "instance_type = \"ml.g5.2xlarge\""
   ]
  },
  {
   "cell_type": "code",
   "execution_count": 34,
   "id": "5293dd2a-1f8b-4588-8965-13f6930c35cb",
   "metadata": {},
   "outputs": [],
   "source": [
    "# Update your container definition with environment variables\n",
    "container = {\n",
    "    'Image': image_uri,  # Should be full ECR URI (e.g., account.dkr.ecr.region.amazonaws.com/whisper-fastapi:latest)\n",
    "    'Mode': 'SingleModel',\n",
    "    'Environment': {\n",
    "        'HUGGING_FACE_HUB_TOKEN': 'hf_YWAymmnG*******8',  # Your HF token\n",
    "    }\n",
    "}\n",
    "\n",
    "# Create the model with the container\n",
    "model_response = sm_client.create_model(\n",
    "    ModelName=model_name,\n",
    "    Containers=[container],  # Use `Containers` instead of `PrimaryContainer`\n",
    "    ExecutionRoleArn=role_arn\n",
    ")"
   ]
  },
  {
   "cell_type": "code",
   "execution_count": 35,
   "id": "ad23f553-28bf-4697-b5d1-97a7b0746c61",
   "metadata": {},
   "outputs": [
    {
     "data": {
      "text/plain": [
       "{'EndpointArn': 'arn:aws:sagemaker:us-west-2:707684582322:endpoint/whisper-async-endpoint',\n",
       " 'ResponseMetadata': {'RequestId': '6a337c27-9ac5-4a32-a314-f1fced4725d2',\n",
       "  'HTTPStatusCode': 200,\n",
       "  'HTTPHeaders': {'x-amzn-requestid': '6a337c27-9ac5-4a32-a314-f1fced4725d2',\n",
       "   'content-type': 'application/x-amz-json-1.1',\n",
       "   'content-length': '90',\n",
       "   'date': 'Thu, 22 May 2025 15:02:22 GMT'},\n",
       "  'RetryAttempts': 0}}"
      ]
     },
     "execution_count": 35,
     "metadata": {},
     "output_type": "execute_result"
    }
   ],
   "source": [
    "# Create endpoint config\n",
    "sm_client.create_endpoint_config(\n",
    "    EndpointConfigName='whisper-async-config',\n",
    "    AsyncInferenceConfig={\n",
    "        'OutputConfig': {\n",
    "            'S3OutputPath': 's3://knowledge-base-us-west-2-707684582322/transcript/outputs'\n",
    "        }\n",
    "    },\n",
    "    ProductionVariants=[\n",
    "        {\n",
    "            'VariantName': 'whisper-variant',\n",
    "            'ModelName': model_name,\n",
    "            'InstanceType': instance_type,  # GPU instance\n",
    "            'InitialInstanceCount': 1\n",
    "        }\n",
    "    ]\n",
    ")\n",
    "\n",
    "# Create async endpoint\n",
    "sm_client.create_endpoint(\n",
    "    EndpointName='whisper-async-endpoint',\n",
    "    EndpointConfigName='whisper-async-config'\n",
    ")"
   ]
  },
  {
   "cell_type": "code",
   "execution_count": 20,
   "id": "8ada9c75-b6b3-4033-93cd-7a41214d738c",
   "metadata": {},
   "outputs": [
    {
     "name": "stdout",
     "output_type": "stream",
     "text": [
      "Created input.json with S3 URI: s3://knowledge-base-us-west-2-707684582322/transcript/inputs/bedrock.mp3\n"
     ]
    }
   ],
   "source": [
    "import json\n",
    "\n",
    "# Define the S3 URI for your MP3 file\n",
    "s3_uri = \"s3://knowledge-base-us-west-2-707684582322/transcript/inputs/bedrock.mp3\"\n",
    "\n",
    "# Create the JSON structure\n",
    "input_data = {\n",
    "    \"s3_uri\": s3_uri\n",
    "}\n",
    "\n",
    "# Write to input.json file\n",
    "with open('input.json', 'w', encoding='utf-8') as f:\n",
    "    json.dump(input_data, f, ensure_ascii=False, indent=2)\n",
    "\n",
    "print(f\"Created input.json with S3 URI: {s3_uri}\")"
   ]
  },
  {
   "cell_type": "code",
   "execution_count": 21,
   "id": "9624c2c6-095e-4e7c-ab1d-3098226f5a06",
   "metadata": {},
   "outputs": [
    {
     "name": "stdout",
     "output_type": "stream",
     "text": [
      "upload: ./input.json to s3://knowledge-base-us-west-2-707684582322/transcript/inputs/bedrock_input.json\n"
     ]
    }
   ],
   "source": [
    "!aws s3 cp input.json s3://knowledge-base-us-west-2-707684582322/transcript/inputs/bedrock_input.json"
   ]
  },
  {
   "cell_type": "code",
   "execution_count": 49,
   "id": "adba3aad-b0f8-452a-b797-8dbc33ef998a",
   "metadata": {},
   "outputs": [
    {
     "name": "stdout",
     "output_type": "stream",
     "text": [
      "Response: {'ResponseMetadata': {'RequestId': '259352c7-8caf-495c-9dc5-05734b1b0ab4', 'HTTPStatusCode': 202, 'HTTPHeaders': {'x-amzn-requestid': '259352c7-8caf-495c-9dc5-05734b1b0ab4', 'x-amzn-sagemaker-outputlocation': 's3://knowledge-base-us-west-2-707684582322/transcript/outputs/3f49c884-670f-4a6d-bc7b-994e1af9d95a.out', 'date': 'Thu, 22 May 2025 15:14:09 GMT', 'content-type': 'application/json', 'content-length': '54', 'connection': 'keep-alive'}, 'RetryAttempts': 0}, 'OutputLocation': 's3://knowledge-base-us-west-2-707684582322/transcript/outputs/3f49c884-670f-4a6d-bc7b-994e1af9d95a.out', 'InferenceId': 'a5f5695c-f2fd-4944-a440-b9e47385feb3'}\n"
     ]
    }
   ],
   "source": [
    "import boto3\n",
    "\n",
    "sagemaker_client = boto3.client('sagemaker-runtime')\n",
    "\n",
    "response = sagemaker_client.invoke_endpoint_async(\n",
    "    EndpointName='whisper-async-endpoint',  # Your endpoint name\n",
    "    InputLocation='s3://knowledge-base-us-west-2-707684582322/transcript/inputs/bedrock.mp3'  # S3 URI of input data\n",
    ")\n",
    "\n",
    "print(f\"Response: {response}\")"
   ]
  },
  {
   "cell_type": "markdown",
   "id": "1ae495e7-958f-435e-a550-783308f9bac9",
   "metadata": {},
   "source": [
    "### Production setup consideration: e.g. auto scaling, sns etc\n",
    "\n",
    "https://github.com/aws/amazon-sagemaker-examples/blob/main/async-inference/Async-Inference-Walkthrough.ipynb"
   ]
  },
  {
   "cell_type": "code",
   "execution_count": null,
   "id": "1acfd592-b5cb-417d-b3cd-e9285398771d",
   "metadata": {},
   "outputs": [],
   "source": []
  }
 ],
 "metadata": {
  "kernelspec": {
   "display_name": "conda_python3",
   "language": "python",
   "name": "conda_python3"
  },
  "language_info": {
   "codemirror_mode": {
    "name": "ipython",
    "version": 3
   },
   "file_extension": ".py",
   "mimetype": "text/x-python",
   "name": "python",
   "nbconvert_exporter": "python",
   "pygments_lexer": "ipython3",
   "version": "3.10.16"
  }
 },
 "nbformat": 4,
 "nbformat_minor": 5
}
